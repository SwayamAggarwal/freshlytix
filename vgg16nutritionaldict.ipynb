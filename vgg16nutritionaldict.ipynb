{
 "cells": [
  {
   "cell_type": "code",
   "execution_count": 5,
   "id": "3771a765-8578-4a58-a5b8-36a11af6d385",
   "metadata": {},
   "outputs": [
    {
     "name": "stderr",
     "output_type": "stream",
     "text": [
      "E:\\AISC LABS\\ANACONDA\\Lib\\site-packages\\torchvision\\models\\_utils.py:208: UserWarning: The parameter 'pretrained' is deprecated since 0.13 and may be removed in the future, please use 'weights' instead.\n",
      "  warnings.warn(\n",
      "E:\\AISC LABS\\ANACONDA\\Lib\\site-packages\\torchvision\\models\\_utils.py:223: UserWarning: Arguments other than a weight enum or `None` for 'weights' are deprecated since 0.13 and may be removed in the future. The current behavior is equivalent to passing `weights=None`.\n",
      "  warnings.warn(msg)\n"
     ]
    },
    {
     "name": "stdout",
     "output_type": "stream",
     "text": [
      "VGG-16 model loaded successfully!\n"
     ]
    }
   ],
   "source": [
    "import torch\n",
    "import torch.nn as nn\n",
    "from torchvision import models  # Import the models module\n",
    "\n",
    "# Load the saved model\n",
    "model_save_path = \"vgg16_model.pth\"  # Replace with your actual model path\n",
    "model_state = torch.load(model_save_path, map_location=torch.device('cpu'), weights_only=True)  # Use 'cuda' if using GPU\n",
    "\n",
    "# Extract the stored values\n",
    "state_dict = model_state['state_dict']\n",
    "nutrition_data = model_state['nutrition_data']\n",
    "class_names = model_state['class_names']\n",
    "\n",
    "# Reinitialize the VGG-16 model\n",
    "model = models.vgg16(pretrained=False)\n",
    "model.classifier[6] = nn.Linear(model.classifier[6].in_features, len(class_names))\n",
    "\n",
    "# Load the trained weights\n",
    "model.load_state_dict(state_dict)\n",
    "model.eval()  # Set the model to evaluation mode\n",
    "\n",
    "print(\"VGG-16 model loaded successfully!\")\n"
   ]
  },
  {
   "cell_type": "code",
   "execution_count": 6,
   "id": "8c31a3f1-265c-4a33-891b-8a414804822e",
   "metadata": {},
   "outputs": [],
   "source": [
    "# Define a function to clean the class label\n",
    "def clean_class_label(class_label):\n",
    "    \"\"\"\n",
    "    Extract the fruit or vegetable name from the class label.\n",
    "    E.g., 'Carrot__Rotten' -> 'Carrot'\n",
    "    \"\"\"\n",
    "    return class_label.split('__')[0].strip()\n",
    "\n",
    "# Define a function to predict the class and display nutrition info\n",
    "def predict_and_display_vgg16(image_path, model, transform, class_names, device, nutrition_data):\n",
    "    \"\"\"\n",
    "    Predict the class of an image using VGG-16 and display nutrition information if applicable.\n",
    "    \"\"\"\n",
    "    # Load and preprocess the image\n",
    "    img = Image.open(image_path).convert('RGB')\n",
    "    img = transform(img).unsqueeze(0).to(device)  \n",
    "\n",
    "    # Set model to evaluation mode and make prediction\n",
    "    model.eval()\n",
    "    with torch.no_grad():\n",
    "        output = model(img)\n",
    "        _, predicted = torch.max(output, 1)\n",
    "\n",
    "    # Get the predicted class label\n",
    "    predicted_class = class_names[predicted.item()]\n",
    "    fruit_or_veg_name = clean_class_label(predicted_class)\n",
    "\n",
    "    # Determine state (Healthy or Rotten)\n",
    "    is_healthy = \"Healthy\" if \"Healthy\" in predicted_class else \"Rotten\"\n",
    "    print(f\"State: {is_healthy}\")\n",
    "    print(\"Fruit or Vegetable Name: \" + fruit_or_veg_name)\n",
    "\n",
    "    # Skip nutrition retrieval if the fruit/vegetable is Rotten\n",
    "    if is_healthy == \"Rotten\":\n",
    "        print(\"This is rotten and hence not safe to consume.\")\n",
    "        return\n",
    "\n",
    "    # Get nutrition values for the predicted fruit or vegetable\n",
    "    nutrition = pd.DataFrame(nutrition_data)\n",
    "    nutrition = nutrition[nutrition['name'].str.contains(fruit_or_veg_name, case=False, na=False)]\n",
    "    if not nutrition.empty:\n",
    "        nutrition = nutrition.iloc[0]\n",
    "        nutrition_data = {\n",
    "            'Nutrient': ['Energy (kJ)', 'Water (g)', 'Protein (g)', 'Total Fat (g)', 'Carbohydrates (g)', 'Fiber (g)', \n",
    "                         'Sugars (g)', 'Calcium (mg)', 'Iron (mg)', 'Magnesium (mg)', 'Phosphorus (mg)', 'Potassium (mg)', \n",
    "                         'Sodium (g)', 'Vitamin A (IU)', 'Vitamin C (mg)', 'Vitamin B1 (mg)', 'Vitamin B2 (mg)', \n",
    "                         'Vitamin B3 (mg)', 'Vitamin B5 (mg)', 'Vitamin B6 (mg)', 'Vitamin E (mg)'],\n",
    "            'Value': [nutrition['energy (kJ)'], nutrition['water (g)'], nutrition['protein (g)'], nutrition['total fat (g)'], \n",
    "                      nutrition['carbohydrates (g)'], nutrition['fiber (g)'], nutrition['sugars (g)'], nutrition['calcium (mg)'], \n",
    "                      nutrition['iron (mg)'], nutrition['magnessium (mg)'], nutrition['phosphorus (mg)'], nutrition['potassium (mg)'], \n",
    "                      nutrition['sodium (g)'], nutrition['vitamin A (IU)'], nutrition['vitamin C (mg)'], nutrition['vitamin B1 (mg)'], \n",
    "                      nutrition['vitamin B2 (mg)'], nutrition['vitamin B3 (mg)'], nutrition['vitamin B5 (mg)'], \n",
    "                      nutrition['vitamin B6 (mg)'], nutrition['vitamin E (mg)']]\n",
    "        }\n",
    "\n",
    "        # Convert to DataFrame for better visualization\n",
    "        nutrition_df_table = pd.DataFrame(nutrition_data)\n",
    "\n",
    "        # Display the table\n",
    "        print(\"\\nNutrition Information:\")\n",
    "        print(nutrition_df_table.to_string(index=False))\n",
    "    else:\n",
    "        print(\"No matching nutrition data found for this fruit or vegetable.\")\n"
   ]
  },
  {
   "cell_type": "code",
   "execution_count": 8,
   "id": "66b96a8c-729b-4f5e-9f3f-0d68ebbaf780",
   "metadata": {},
   "outputs": [],
   "source": [
    "from torchvision import transforms  # Import transforms module from torchvision\n",
    "\n",
    "# Define the transform (same as used during training)\n",
    "transformer = transforms.Compose([\n",
    "    transforms.Resize((128, 128)),\n",
    "    transforms.ToTensor()\n",
    "])\n"
   ]
  },
  {
   "cell_type": "code",
   "execution_count": 9,
   "id": "f6fd5f79-ecd4-41b8-8d7c-ea52f2b8e10c",
   "metadata": {},
   "outputs": [],
   "source": [
    "# Set the device\n",
    "device = torch.device(\"cuda:0\" if torch.cuda.is_available() else \"cpu\")\n",
    "model = model.to(device)"
   ]
  },
  {
   "cell_type": "code",
   "execution_count": 13,
   "id": "8063362b-28ea-497c-ad23-cdfc05939698",
   "metadata": {},
   "outputs": [
    {
     "name": "stdout",
     "output_type": "stream",
     "text": [
      "State: Healthy\n",
      "Fruit or Vegetable Name: Cucumber\n",
      "\n",
      "Nutrition Information:\n",
      "         Nutrient  Value\n",
      "      Energy (kJ)  62.76\n",
      "        Water (g)   95.2\n",
      "      Protein (g)   0.65\n",
      "    Total Fat (g)   0.11\n",
      "Carbohydrates (g)   3.63\n",
      "        Fiber (g)    0.5\n",
      "       Sugars (g)   1.67\n",
      "     Calcium (mg)     16\n",
      "        Iron (mg)   0.28\n",
      "   Magnesium (mg)     13\n",
      "  Phosphorus (mg)     24\n",
      "   Potassium (mg)    147\n",
      "       Sodium (g)      2\n",
      "   Vitamin A (IU)    105\n",
      "   Vitamin C (mg)    2.8\n",
      "  Vitamin B1 (mg)  0.027\n",
      "  Vitamin B2 (mg)  0.033\n",
      "  Vitamin B3 (mg)  0.098\n",
      "  Vitamin B5 (mg)  0.259\n",
      "  Vitamin B6 (mg)   0.04\n",
      "   Vitamin E (mg)   0.03\n"
     ]
    }
   ],
   "source": [
    "# Example usage\n",
    "from PIL import Image  # Import the Image module from PIL\n",
    "import pandas as pd\n",
    "\n",
    "image_path = (r\"D:\\FRUITSANDVEGETABLESDATASET\\Fruit And Vegetable Diseases Dataset\\Cucumber__Healthy\\freshCucumber (1).jpeg\")  # Replace with your image path\n",
    "predict_and_display_vgg16(image_path, model, transformer, class_names, device, nutrition_data)"
   ]
  },
  {
   "cell_type": "code",
   "execution_count": null,
   "id": "cbf0d9d0-5e01-4478-837d-bf095627edc0",
   "metadata": {},
   "outputs": [],
   "source": []
  }
 ],
 "metadata": {
  "kernelspec": {
   "display_name": "Python 3 (ipykernel)",
   "language": "python",
   "name": "python3"
  },
  "language_info": {
   "codemirror_mode": {
    "name": "ipython",
    "version": 3
   },
   "file_extension": ".py",
   "mimetype": "text/x-python",
   "name": "python",
   "nbconvert_exporter": "python",
   "pygments_lexer": "ipython3",
   "version": "3.12.7"
  }
 },
 "nbformat": 4,
 "nbformat_minor": 5
}
